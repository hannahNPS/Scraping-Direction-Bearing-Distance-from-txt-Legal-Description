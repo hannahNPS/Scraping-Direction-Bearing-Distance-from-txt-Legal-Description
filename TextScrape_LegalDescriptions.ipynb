{
 "cells": [
  {
   "cell_type": "markdown",
   "metadata": {},
   "source": [
    "This notebook scrapes a text file for bearings and then puts the bearings into a cvs file which can be used in the Legal Description Tools Notebook code in order to identify vertices as a points layer.  This can only be used for a set of descriptions that are straight lines, i.e. no curve data.\n",
    "\n",
    "Step 1: Export your PDF to a text file using Adobe.  Currently this is not available in Python without an additional Python dictionary which requires downloading. See: https://realpython.com/pdf-python/ "
   ]
  },
  {
   "cell_type": "code",
   "execution_count": 1,
   "metadata": {},
   "outputs": [],
   "source": [
    "##Import the packages you will need for this notebook\n",
    "\n",
    "import re  ##package used for Regular Expressions (\"re\") -- re is a package for finding what you want to match in strings \n",
    "import pandas as pd  ##pandas is a data analysis and manipulation tool, we'll use it here to place the scraped data into columns\n",
    "import csv  ##csv package will ultimately be used to convert dataframe to a spreadsheet for future use"
   ]
  },
  {
   "cell_type": "code",
   "execution_count": 2,
   "metadata": {},
   "outputs": [],
   "source": [
    "# point \"myfile\" to the text file you have exported from the PDF Legal Description you are working in, the pathfile below\n",
    "# points to the text file within the github project - you will need to update r\"[UPDATE THIS TEXT]\" with the appropriate file pathway\n",
    "# i've included the sample legal description txt file in the github project \n",
    "\n",
    "myfile = open(r\"F:\\ROW\\ROW_Park_Folders\\GATE\\Marine Forces Reserve\\RW GATE-20-001.txt\",'r')\n",
    "\n",
    "#This line of code places your text file in read mode, allowing the program to read the contents of the file.\n",
    "#For more information on Python file methods see: https://pythonguides.com/python-file-methods/\n",
    "\n",
    "f = myfile.read()"
   ]
  },
  {
   "cell_type": "code",
   "execution_count": 4,
   "metadata": {},
   "outputs": [
    {
     "name": "stdout",
     "output_type": "stream",
     "text": [
      "['South 19°26’24” East', 'South 68°53’12” West', 'South 45°44’01” West', 'South 72°08’03” West', 'South 75°44’52” West', 'South 81°36’01” West', 'South 42°26’17” West', 'South 41°39’31” West', 'South 87°30’55” West', 'North 87°21’42” West', 'North 01°48’35” West', 'North 77°40’57” West', 'North 76°08’27” West', 'North 40°23’11” West', 'South 76°08’27” East', 'South 77°40’57” East', 'South 01°48’35” East', 'South 87°21’42” East', 'North 87°30’55” East', 'North 41°39’31” East', 'North 42°26’17” East', 'North 81°36’01” East', 'North 75°44’52” East', 'North 72°08’03” East', 'North 45°44’01” East', 'North 68°53’12” East']\n"
     ]
    }
   ],
   "source": [
    "##Useful documentation regular Expressions: https://docs.python.org/3/library/re.html#regular-expression-syntax\n",
    "##Some samples of using RegEx in Pyton:  https://www.w3schools.com/python/python_regex.asp\n",
    "##for a HOWTO on Regular Expressions: https://docs.python.org/3/howto/regex.html\n",
    "\n",
    "#This cell cleans up lists of Northing and Eastings \n",
    "\n",
    "#Reference - there are many more items in regular expression reference above, but here are the ones I used below:\n",
    "\n",
    "#\\d+: One or more numbers.\n",
    "#\\s+: One or more whitespaces.\n",
    "#[A-Z\\s]+: One or more uppercase characters or space characters\n",
    "#\\s+: One or more whitespaces.\n",
    "#[A-Z][A-Za-z\\s]+: An uppercase character followed by at least one more character (uppercase or lowercase) or whitespaces.\n",
    "# \".\" is a wild card - in the search text below, I used a wild card to find both the minutes and seconds symbol as python would not\n",
    "## recognize the quotation marks as a symbol\n",
    "#\\. indicates a decimal point\n",
    "\n",
    "Bearing = re.findall('North\\s?\\d+\\°\\d+.\\d+\\.?\\d+.\\s?[A-Z][A-Za-z]+|South\\s?\\d+\\°\\d+.\\d+\\.?\\d+.\\s?[A-Z][A-Za-z]+', f)\n",
    "print(Bearing)  ##print out the list you've created to see if it looks correct based on the text file"
   ]
  },
  {
   "cell_type": "code",
   "execution_count": 52,
   "metadata": {},
   "outputs": [
    {
     "name": "stdout",
     "output_type": "stream",
     "text": [
      "                 Bearing\n",
      "0   South 19°26’24” East\n",
      "1   South 68°53’12” West\n",
      "2   South 45°44’01” West\n",
      "3   South 72°08’03” West\n",
      "4   South 75°44’52” West\n",
      "5   South 81°36’01” West\n",
      "6   South 42°26’17” West\n",
      "7   South 41°39’31” West\n",
      "8   South 87°30’55” West\n",
      "9   North 87°21’42” West\n",
      "10  North 01°48’35” West\n",
      "11  North 77°40’57” West\n",
      "12  North 76°08’27” West\n",
      "13  North 40°23’11” West\n",
      "14  South 76°08’27” East\n",
      "15  South 77°40’57” East\n",
      "16  South 01°48’35” East\n",
      "17  South 87°21’42” East\n",
      "18  North 87°30’55” East\n",
      "19  North 41°39’31” East\n",
      "20  North 42°26’17” East\n",
      "21  North 81°36’01” East\n",
      "22  North 75°44’52” East\n",
      "23  North 72°08’03” East\n",
      "24  North 45°44’01” East\n",
      "25  North 68°53’12” East\n"
     ]
    }
   ],
   "source": [
    "#In this cell, we take the list we've generated by finding all of our bearings into a Data Frame using the Pandas package\n",
    "#this will allow us to work with the columns\n",
    "\n",
    "#Converting lists to Pandas with examples: https://datatofish.com/list-to-dataframe/\n",
    "\n",
    "df = pd.DataFrame(Bearing, columns = ['Bearing'])\n",
    "print(df)"
   ]
  },
  {
   "cell_type": "code",
   "execution_count": 54,
   "metadata": {},
   "outputs": [
    {
     "name": "stdout",
     "output_type": "stream",
     "text": [
      "                 Bearing     NS Degrees      MS    EW\n",
      "0   South 19°26’24” East  South      19  26’24”  East\n",
      "1   South 68°53’12” West  South      68  53’12”  West\n",
      "2   South 45°44’01” West  South      45  44’01”  West\n",
      "3   South 72°08’03” West  South      72  08’03”  West\n",
      "4   South 75°44’52” West  South      75  44’52”  West\n",
      "5   South 81°36’01” West  South      81  36’01”  West\n",
      "6   South 42°26’17” West  South      42  26’17”  West\n",
      "7   South 41°39’31” West  South      41  39’31”  West\n",
      "8   South 87°30’55” West  South      87  30’55”  West\n",
      "9   North 87°21’42” West  North      87  21’42”  West\n",
      "10  North 01°48’35” West  North      01  48’35”  West\n",
      "11  North 77°40’57” West  North      77  40’57”  West\n",
      "12  North 76°08’27” West  North      76  08’27”  West\n",
      "13  North 40°23’11” West  North      40  23’11”  West\n",
      "14  South 76°08’27” East  South      76  08’27”  East\n",
      "15  South 77°40’57” East  South      77  40’57”  East\n",
      "16  South 01°48’35” East  South      01  48’35”  East\n",
      "17  South 87°21’42” East  South      87  21’42”  East\n",
      "18  North 87°30’55” East  North      87  30’55”  East\n",
      "19  North 41°39’31” East  North      41  39’31”  East\n",
      "20  North 42°26’17” East  North      42  26’17”  East\n",
      "21  North 81°36’01” East  North      81  36’01”  East\n",
      "22  North 75°44’52” East  North      75  44’52”  East\n",
      "23  North 72°08’03” East  North      72  08’03”  East\n",
      "24  North 45°44’01” East  North      45  44’01”  East\n",
      "25  North 68°53’12” East  North      68  53’12”  East\n"
     ]
    }
   ],
   "source": [
    "#In this cell, we'll take the full bearing and split it into columns so that we can work with it in other notebooks, such as ones\n",
    "#where we need to run calculations on the information in the bearing\n",
    "\n",
    "#Reference for splitting string in df column: https://practicaldatascience.co.uk/data-science/how-to-split-strings-using-the-pandas-split-function\n",
    "\n",
    "df[['NS','Degrees','MS','EW']] = df['Bearing'].str.split(pat = r'\\s|\\°',expand = True)\n",
    "print(df)\n"
   ]
  },
  {
   "cell_type": "code",
   "execution_count": 55,
   "metadata": {},
   "outputs": [
    {
     "name": "stdout",
     "output_type": "stream",
     "text": [
      "                 Bearing     NS Degrees      MS    EW Minutes Seconds\n",
      "0   South 19°26’24” East  South      19  26’24”  East      26      24\n",
      "1   South 68°53’12” West  South      68  53’12”  West      53      12\n",
      "2   South 45°44’01” West  South      45  44’01”  West      44      01\n",
      "3   South 72°08’03” West  South      72  08’03”  West      08      03\n",
      "4   South 75°44’52” West  South      75  44’52”  West      44      52\n",
      "5   South 81°36’01” West  South      81  36’01”  West      36      01\n",
      "6   South 42°26’17” West  South      42  26’17”  West      26      17\n",
      "7   South 41°39’31” West  South      41  39’31”  West      39      31\n",
      "8   South 87°30’55” West  South      87  30’55”  West      30      55\n",
      "9   North 87°21’42” West  North      87  21’42”  West      21      42\n",
      "10  North 01°48’35” West  North      01  48’35”  West      48      35\n",
      "11  North 77°40’57” West  North      77  40’57”  West      40      57\n",
      "12  North 76°08’27” West  North      76  08’27”  West      08      27\n",
      "13  North 40°23’11” West  North      40  23’11”  West      23      11\n",
      "14  South 76°08’27” East  South      76  08’27”  East      08      27\n",
      "15  South 77°40’57” East  South      77  40’57”  East      40      57\n",
      "16  South 01°48’35” East  South      01  48’35”  East      48      35\n",
      "17  South 87°21’42” East  South      87  21’42”  East      21      42\n",
      "18  North 87°30’55” East  North      87  30’55”  East      30      55\n",
      "19  North 41°39’31” East  North      41  39’31”  East      39      31\n",
      "20  North 42°26’17” East  North      42  26’17”  East      26      17\n",
      "21  North 81°36’01” East  North      81  36’01”  East      36      01\n",
      "22  North 75°44’52” East  North      75  44’52”  East      44      52\n",
      "23  North 72°08’03” East  North      72  08’03”  East      08      03\n",
      "24  North 45°44’01” East  North      45  44’01”  East      44      01\n",
      "25  North 68°53’12” East  North      68  53’12”  East      53      12\n"
     ]
    }
   ],
   "source": [
    "##Note on why I didn't just immediately split out Minutes and seconds: Reg ex would not recognize quotation marks as symbols\n",
    "#I could use to split --> Therefore, I had to isolate minutes and seconds and then strip off the symbols fo minutes and seconds\n",
    "df.keys()\n",
    "\n",
    "df['Minutes'] = df['MS'].str[0:2]\n",
    "df['Seconds'] = df['MS'].str[3:5]\n",
    "\n",
    "print(df)"
   ]
  },
  {
   "cell_type": "code",
   "execution_count": 56,
   "metadata": {},
   "outputs": [
    {
     "name": "stdout",
     "output_type": "stream",
     "text": [
      "                Bearing     NS Degrees    EW Minutes Seconds\n",
      "0  South 19°26’24” East  South      19  East      26      24\n",
      "1  South 68°53’12” West  South      68  West      53      12\n",
      "2  South 45°44’01” West  South      45  West      44      01\n",
      "3  South 72°08’03” West  South      72  West      08      03\n",
      "4  South 75°44’52” West  South      75  West      44      52\n"
     ]
    }
   ],
   "source": [
    "#Drop the 'MS' column - it's no longer useful\n",
    "\n",
    "dfclean = df.drop(['MS'], axis = 1)\n",
    "# Converting to excel\n",
    "\n",
    "print(dfclean.head())"
   ]
  },
  {
   "cell_type": "code",
   "execution_count": 57,
   "metadata": {},
   "outputs": [
    {
     "name": "stdout",
     "output_type": "stream",
     "text": [
      "['15.01 feet', '273.69 feet', '108.39 feet', '403.92 feet', '183.06 feet', '161.74 feet', '26.64 feet', '70.70 feet', '284.78 feet', '172.73 feet', '113.59 feet', '153.88 feet', '225.34 feet', '25.66 feet', '245.68 feet', '165.66 feet', '111.40 feet', '158.18 feet', '277.76 feet', '64.46 feet', '32.08 feet', '166.31 feet', '181.82 feet', '399.93 feet', '107.94 feet', '277.20 feet']\n"
     ]
    }
   ],
   "source": [
    "#Cell to find list of distances in order to add a Distance Column\n",
    "\n",
    "Distance = re.findall('\\d+\\.\\d+\\s?feet',f)\n",
    "print(Distance)"
   ]
  },
  {
   "cell_type": "code",
   "execution_count": 64,
   "metadata": {},
   "outputs": [
    {
     "name": "stdout",
     "output_type": "stream",
     "text": [
      "                 Bearing     NS Degrees    EW Minutes Seconds Distance and feet\n",
      "0   South 19°26’24” East  South      19  East      26      24        15.01 feet\n",
      "1   South 68°53’12” West  South      68  West      53      12       273.69 feet\n",
      "2   South 45°44’01” West  South      45  West      44      01       108.39 feet\n",
      "3   South 72°08’03” West  South      72  West      08      03       403.92 feet\n",
      "4   South 75°44’52” West  South      75  West      44      52       183.06 feet\n",
      "5   South 81°36’01” West  South      81  West      36      01       161.74 feet\n",
      "6   South 42°26’17” West  South      42  West      26      17        26.64 feet\n",
      "7   South 41°39’31” West  South      41  West      39      31        70.70 feet\n",
      "8   South 87°30’55” West  South      87  West      30      55       284.78 feet\n",
      "9   North 87°21’42” West  North      87  West      21      42       172.73 feet\n",
      "10  North 01°48’35” West  North      01  West      48      35       113.59 feet\n",
      "11  North 77°40’57” West  North      77  West      40      57       153.88 feet\n",
      "12  North 76°08’27” West  North      76  West      08      27       225.34 feet\n",
      "13  North 40°23’11” West  North      40  West      23      11        25.66 feet\n",
      "14  South 76°08’27” East  South      76  East      08      27       245.68 feet\n",
      "15  South 77°40’57” East  South      77  East      40      57       165.66 feet\n",
      "16  South 01°48’35” East  South      01  East      48      35       111.40 feet\n",
      "17  South 87°21’42” East  South      87  East      21      42       158.18 feet\n",
      "18  North 87°30’55” East  North      87  East      30      55       277.76 feet\n",
      "19  North 41°39’31” East  North      41  East      39      31        64.46 feet\n",
      "20  North 42°26’17” East  North      42  East      26      17        32.08 feet\n",
      "21  North 81°36’01” East  North      81  East      36      01       166.31 feet\n",
      "22  North 75°44’52” East  North      75  East      44      52       181.82 feet\n",
      "23  North 72°08’03” East  North      72  East      08      03       399.93 feet\n",
      "24  North 45°44’01” East  North      45  East      44      01       107.94 feet\n",
      "25  North 68°53’12” East  North      68  East      53      12       277.20 feet\n"
     ]
    }
   ],
   "source": [
    "#We could have done this in one combined step, but since we created a separate list of distance, we'll need to insert that into\n",
    "##the existing df, our dftest\n",
    "\n",
    "##For this, we'll use df.insert: https://pandas.pydata.org/pandas-docs/stable/reference/api/pandas.DataFrame.insert.html\n",
    "dfclean.insert(6,\"Distance and feet\",Distance)\n",
    "print(dfclean)"
   ]
  },
  {
   "cell_type": "code",
   "execution_count": 67,
   "metadata": {},
   "outputs": [
    {
     "name": "stdout",
     "output_type": "stream",
     "text": [
      "                 Bearing     NS Degrees  ... Distance and feet Distance Units\n",
      "0   South 19°26’24” East  South      19  ...        15.01 feet    15.01  feet\n",
      "1   South 68°53’12” West  South      68  ...       273.69 feet   273.69  feet\n",
      "2   South 45°44’01” West  South      45  ...       108.39 feet   108.39  feet\n",
      "3   South 72°08’03” West  South      72  ...       403.92 feet   403.92  feet\n",
      "4   South 75°44’52” West  South      75  ...       183.06 feet   183.06  feet\n",
      "5   South 81°36’01” West  South      81  ...       161.74 feet   161.74  feet\n",
      "6   South 42°26’17” West  South      42  ...        26.64 feet    26.64  feet\n",
      "7   South 41°39’31” West  South      41  ...        70.70 feet    70.70  feet\n",
      "8   South 87°30’55” West  South      87  ...       284.78 feet   284.78  feet\n",
      "9   North 87°21’42” West  North      87  ...       172.73 feet   172.73  feet\n",
      "10  North 01°48’35” West  North      01  ...       113.59 feet   113.59  feet\n",
      "11  North 77°40’57” West  North      77  ...       153.88 feet   153.88  feet\n",
      "12  North 76°08’27” West  North      76  ...       225.34 feet   225.34  feet\n",
      "13  North 40°23’11” West  North      40  ...        25.66 feet    25.66  feet\n",
      "14  South 76°08’27” East  South      76  ...       245.68 feet   245.68  feet\n",
      "15  South 77°40’57” East  South      77  ...       165.66 feet   165.66  feet\n",
      "16  South 01°48’35” East  South      01  ...       111.40 feet   111.40  feet\n",
      "17  South 87°21’42” East  South      87  ...       158.18 feet   158.18  feet\n",
      "18  North 87°30’55” East  North      87  ...       277.76 feet   277.76  feet\n",
      "19  North 41°39’31” East  North      41  ...        64.46 feet    64.46  feet\n",
      "20  North 42°26’17” East  North      42  ...        32.08 feet    32.08  feet\n",
      "21  North 81°36’01” East  North      81  ...       166.31 feet   166.31  feet\n",
      "22  North 75°44’52” East  North      75  ...       181.82 feet   181.82  feet\n",
      "23  North 72°08’03” East  North      72  ...       399.93 feet   399.93  feet\n",
      "24  North 45°44’01” East  North      45  ...       107.94 feet   107.94  feet\n",
      "25  North 68°53’12” East  North      68  ...       277.20 feet   277.20  feet\n",
      "\n",
      "[26 rows x 9 columns]\n"
     ]
    }
   ],
   "source": [
    "#This cell uses regular expression again to split the 'Distance and feet' column into 2 columns: Distance and units\n",
    "\n",
    "dfclean[['Distance','Units']] = dfclean['Distance and feet'].str.split(pat = r'\\s',expand = True)\n",
    "print(dfclean)"
   ]
  },
  {
   "cell_type": "code",
   "execution_count": 69,
   "metadata": {},
   "outputs": [
    {
     "name": "stdout",
     "output_type": "stream",
     "text": [
      "                Bearing     NS Degrees    EW Minutes Seconds Distance Units\n",
      "0  South 19°26’24” East  South      19  East      26      24    15.01  feet\n",
      "1  South 68°53’12” West  South      68  West      53      12   273.69  feet\n",
      "2  South 45°44’01” West  South      45  West      44      01   108.39  feet\n",
      "3  South 72°08’03” West  South      72  West      08      03   403.92  feet\n",
      "4  South 75°44’52” West  South      75  West      44      52   183.06  feet\n"
     ]
    }
   ],
   "source": [
    "#Drop the 'Distance and feet' column - it's no longer useful\n",
    "\n",
    "dfclean = dfclean.drop(['Distance and feet'], axis = 1)\n",
    "\n",
    "print(dfclean.head())\n"
   ]
  },
  {
   "cell_type": "code",
   "execution_count": 70,
   "metadata": {},
   "outputs": [],
   "source": [
    "#Save the resulting data frame into a csv using the to_csv method\n",
    "\n",
    "#to_csv Pandas documentation:https://pandas.pydata.org/pandas-docs/stable/reference/api/pandas.DataFrame.to_csv.html\n",
    "\n",
    "csv = dfclean.to_csv(r'C:\\Users\\hdean\\Documents\\ArcGIS\\Projects\\PythonWorkSpace_ROW\\bearings2.csv',index = False)"
   ]
  },
  {
   "cell_type": "code",
   "execution_count": null,
   "metadata": {},
   "outputs": [],
   "source": []
  }
 ],
 "metadata": {
  "kernelspec": {
   "display_name": "ArcGISPro",
   "language": "Python",
   "name": "python3"
  },
  "language_info": {
   "file_extension": ".py",
   "name": "python",
   "version": "3"
  }
 },
 "nbformat": 4,
 "nbformat_minor": 2
}
